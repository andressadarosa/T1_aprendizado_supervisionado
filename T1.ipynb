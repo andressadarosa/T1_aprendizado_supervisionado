{
 "cells": [
  {
   "cell_type": "markdown",
   "metadata": {},
   "source": [
    "## Trabalho 1 - Aprendizado Supervisionado\n",
    "Andressa Moreira - 19204096"
   ]
  },
  {
   "cell_type": "code",
   "execution_count": 57,
   "metadata": {},
   "outputs": [],
   "source": [
    "import pandas as pd\n",
    "import numpy as np \n",
    "from sklearn.neighbors import KNeighborsClassifier\n",
    "from sklearn import preprocessing, metrics\n",
    "from sklearn.model_selection import train_test_split\n",
    "import matplotlib.pyplot as plt\n",
    "from sklearn.metrics import mean_absolute_error as mae\n",
    "from sklearn.metrics import mean_squared_error as mse\n",
    "from sklearn.tree import DecisionTreeClassifier"
   ]
  },
  {
   "cell_type": "markdown",
   "metadata": {},
   "source": [
    "### Conjunto de dados escolhido"
   ]
  },
  {
   "cell_type": "markdown",
   "metadata": {},
   "source": [
    "\n",
    "- Título: Pima Indians Diabetes Database \n",
    "- Descrição: Este conjunto de dados é originalmente do Instituto Nacional de Diabetes e Doenças Digestivas e Renais. O objetivo do conjunto de dados é prever diagnosticamente se um paciente tem ou não diabetes, com base em certas medidas de diagnóstico incluídas no conjunto de dados. Várias restrições foram colocadas na seleção dessas instâncias de um banco de dados maior. Em particular, todos os pacientes aqui são mulheres com pelo menos 21 anos de ascendência indígena Pima. Os conjuntos de dados consistem em várias variáveis ​​preditoras médicas e uma variável alvo Outcome. As variáveis ​​preditoras incluem o número de gestações que a paciente teve, seu IMC, nível de insulina, idade e assim por diante.\n",
    "- Link: https://www.kaggle.com/datasets/uciml/pima-indians-diabetes-database\n",
    "- Interesse: Meu interesse neste dataset se dá pelo fato de que todos os dados são númericos, não tem dados faltantes e o dataset é composto por 8 features e 1 label. Assim, não é necessário fazer grandes tratamento nos dados e posso focar mais no desenvolvimento/aprimoramento dos algoritmos propostos no enunciado do trabalho. Todo conjunto de dados conta uma história, essa história em específico é um assunto do meu interesse já que ele trata sobre a saúde de mulheres com pelo menos 21 anos de idade com ascendência indígena Pima."
   ]
  },
  {
   "cell_type": "markdown",
   "metadata": {},
   "source": [
    "#### Features\n",
    "* Pregnancies: número de gestações\n",
    "* Glucose: concentração de glicose plasmática a 2 horas em um teste oral de tolerância à glicose\n",
    "* BloodPressure: pressão arterial diastólica (mm Hg)\n",
    "* SkinThickness: espessura da dobra cutânea do tríceps (mm)\n",
    "* Insuline: insulina sérica de 2 horas (mu U/ml)\n",
    "* BMI: índice de massa corporal (peso em kg/(altura em m)^2)\n",
    "* DiabetesPedigreeFunction: função hereditária de diabetes\n",
    "* Age: idade\n",
    "#### Label\n",
    "* Outcome: variável de classe (0 ou 1). 268 de 768 são 1, as outras são 0."
   ]
  },
  {
   "cell_type": "markdown",
   "metadata": {},
   "source": [
    "### Conhecendo os dados"
   ]
  },
  {
   "cell_type": "code",
   "execution_count": 50,
   "metadata": {},
   "outputs": [
    {
     "data": {
      "text/html": [
       "<div>\n",
       "<style scoped>\n",
       "    .dataframe tbody tr th:only-of-type {\n",
       "        vertical-align: middle;\n",
       "    }\n",
       "\n",
       "    .dataframe tbody tr th {\n",
       "        vertical-align: top;\n",
       "    }\n",
       "\n",
       "    .dataframe thead th {\n",
       "        text-align: right;\n",
       "    }\n",
       "</style>\n",
       "<table border=\"1\" class=\"dataframe\">\n",
       "  <thead>\n",
       "    <tr style=\"text-align: right;\">\n",
       "      <th></th>\n",
       "      <th>Pregnancies</th>\n",
       "      <th>Glucose</th>\n",
       "      <th>BloodPressure</th>\n",
       "      <th>SkinThickness</th>\n",
       "      <th>Insulin</th>\n",
       "      <th>BMI</th>\n",
       "      <th>DiabetesPedigreeFunction</th>\n",
       "      <th>Age</th>\n",
       "      <th>Outcome</th>\n",
       "    </tr>\n",
       "  </thead>\n",
       "  <tbody>\n",
       "    <tr>\n",
       "      <th>0</th>\n",
       "      <td>6</td>\n",
       "      <td>148</td>\n",
       "      <td>72</td>\n",
       "      <td>35</td>\n",
       "      <td>0</td>\n",
       "      <td>33.6</td>\n",
       "      <td>0.627</td>\n",
       "      <td>50</td>\n",
       "      <td>1</td>\n",
       "    </tr>\n",
       "    <tr>\n",
       "      <th>1</th>\n",
       "      <td>1</td>\n",
       "      <td>85</td>\n",
       "      <td>66</td>\n",
       "      <td>29</td>\n",
       "      <td>0</td>\n",
       "      <td>26.6</td>\n",
       "      <td>0.351</td>\n",
       "      <td>31</td>\n",
       "      <td>0</td>\n",
       "    </tr>\n",
       "    <tr>\n",
       "      <th>2</th>\n",
       "      <td>8</td>\n",
       "      <td>183</td>\n",
       "      <td>64</td>\n",
       "      <td>0</td>\n",
       "      <td>0</td>\n",
       "      <td>23.3</td>\n",
       "      <td>0.672</td>\n",
       "      <td>32</td>\n",
       "      <td>1</td>\n",
       "    </tr>\n",
       "    <tr>\n",
       "      <th>3</th>\n",
       "      <td>1</td>\n",
       "      <td>89</td>\n",
       "      <td>66</td>\n",
       "      <td>23</td>\n",
       "      <td>94</td>\n",
       "      <td>28.1</td>\n",
       "      <td>0.167</td>\n",
       "      <td>21</td>\n",
       "      <td>0</td>\n",
       "    </tr>\n",
       "    <tr>\n",
       "      <th>4</th>\n",
       "      <td>0</td>\n",
       "      <td>137</td>\n",
       "      <td>40</td>\n",
       "      <td>35</td>\n",
       "      <td>168</td>\n",
       "      <td>43.1</td>\n",
       "      <td>2.288</td>\n",
       "      <td>33</td>\n",
       "      <td>1</td>\n",
       "    </tr>\n",
       "  </tbody>\n",
       "</table>\n",
       "</div>"
      ],
      "text/plain": [
       "   Pregnancies  Glucose  BloodPressure  SkinThickness  Insulin   BMI  \\\n",
       "0            6      148             72             35        0  33.6   \n",
       "1            1       85             66             29        0  26.6   \n",
       "2            8      183             64              0        0  23.3   \n",
       "3            1       89             66             23       94  28.1   \n",
       "4            0      137             40             35      168  43.1   \n",
       "\n",
       "   DiabetesPedigreeFunction  Age  Outcome  \n",
       "0                     0.627   50        1  \n",
       "1                     0.351   31        0  \n",
       "2                     0.672   32        1  \n",
       "3                     0.167   21        0  \n",
       "4                     2.288   33        1  "
      ]
     },
     "execution_count": 50,
     "metadata": {},
     "output_type": "execute_result"
    }
   ],
   "source": [
    "df = pd.read_csv('diabetes.csv')\n",
    "df.head()"
   ]
  },
  {
   "cell_type": "markdown",
   "metadata": {},
   "source": [
    "### K-nn"
   ]
  },
  {
   "cell_type": "markdown",
   "metadata": {},
   "source": [
    "colocar uma breve descrição do que é knn aqui"
   ]
  },
  {
   "cell_type": "code",
   "execution_count": 51,
   "metadata": {},
   "outputs": [
    {
     "name": "stdout",
     "output_type": "stream",
     "text": [
      "Accuracy of model at k = 4 is  0.7532467532467533\n"
     ]
    }
   ],
   "source": [
    "X = df.drop(['Outcome'], axis = 1)\n",
    "y = df['Outcome']\n",
    "\n",
    "x = preprocessing.StandardScaler().fit(X).transform(X.astype(float))\n",
    "\n",
    "X_train, X_test, y_train, y_test = train_test_split(X, y, test_size = 0.2, random_state = 4)\n",
    "# 80% para treinamento\n",
    "# 20% para teste\n",
    "\n",
    "k = 4\n",
    "neigh = KNeighborsClassifier(n_neighbors = k).fit(X_train, y_train)\n",
    "pred_y = neigh.predict(X_test)\n",
    "print('Accuracy of model at k = 4 is ', metrics.accuracy_score(y_test, pred_y))"
   ]
  },
  {
   "cell_type": "markdown",
   "metadata": {},
   "source": [
    "Agora é hora de melhorar o modelo e descobrir o valor k ideal."
   ]
  },
  {
   "cell_type": "code",
   "execution_count": 52,
   "metadata": {},
   "outputs": [
    {
     "name": "stdout",
     "output_type": "stream",
     "text": [
      "Menor erro: 0.21428571428571427 em K = 30\n"
     ]
    },
    {
     "data": {
      "image/png": "[encoded data removed]",
      "text/plain": [
       "<Figure size 720x432 with 1 Axes>"
      ]
     },
     "metadata": {
      "needs_background": "light"
     },
     "output_type": "display_data"
    }
   ],
   "source": [
    "error_rate = []\n",
    "\n",
    "for i in range(1, 50): # esse range é escolhido por causa do ponto de inflexao \n",
    "    knn = KNeighborsClassifier(n_neighbors = i)\n",
    "    knn.fit(X_train, y_train)\n",
    "    pred_i = knn.predict(X_test)\n",
    "    error_rate.append(np.mean(pred_i != y_test))\n",
    "\n",
    "plt.figure(figsize = (10, 6))\n",
    "plt.plot(range(1, 50), error_rate, color = 'blue', linestyle = 'dashed', marker = 'o', markerfacecolor = 'red', markersize = 10)\n",
    "plt.title('Error Rate vs. K Value')\n",
    "plt.xlabel('K')\n",
    "plt.ylabel('Error Rate')\n",
    "print('Menor erro:', min(error_rate), 'em K =', error_rate.index(min(error_rate)))"
   ]
  },
  {
   "cell_type": "markdown",
   "metadata": {},
   "source": [
    "A partir do gráfico acima, podemos observar que o menor erro é 0,21 e ele ocorre quando k é 30. Agora podemos visualizar o gráfico entre a precisão e o valor K."
   ]
  },
  {
   "cell_type": "code",
   "execution_count": 53,
   "metadata": {},
   "outputs": [
    {
     "name": "stdout",
     "output_type": "stream",
     "text": [
      "k = 1   MAE= 0.24025974025974026   RMSE= 0.4901629731627434\n",
      "k = 2   MAE= 0.16883116883116883   RMSE= 0.4108907018066591\n",
      "k = 3   MAE= 0.18181818181818182   RMSE= 0.4264014327112209\n",
      "k = 4   MAE= 0.12337662337662338   RMSE= 0.35125008665710444\n",
      "k = 5   MAE= 0.14935064935064934   RMSE= 0.386459117308221\n",
      "k = 6   MAE= 0.12337662337662338   RMSE= 0.35125008665710444\n",
      "k = 7   MAE= 0.14935064935064934   RMSE= 0.386459117308221\n",
      "k = 8   MAE= 0.13636363636363635   RMSE= 0.3692744729379982\n",
      "k = 9   MAE= 0.14935064935064934   RMSE= 0.386459117308221\n",
      "k = 10   MAE= 0.14285714285714285   RMSE= 0.3779644730092272\n",
      "k = 11   MAE= 0.14935064935064934   RMSE= 0.386459117308221\n",
      "k = 12   MAE= 0.11688311688311688   RMSE= 0.34188172937891387\n",
      "k = 13   MAE= 0.12337662337662338   RMSE= 0.35125008665710444\n",
      "k = 14   MAE= 0.1038961038961039   RMSE= 0.3223291856101521\n",
      "k = 15   MAE= 0.12987012987012986   RMSE= 0.3603749850782236\n",
      "k = 16   MAE= 0.11038961038961038   RMSE= 0.3322493196224943\n",
      "k = 17   MAE= 0.12987012987012986   RMSE= 0.3603749850782236\n",
      "k = 18   MAE= 0.1038961038961039   RMSE= 0.3223291856101521\n",
      "k = 19   MAE= 0.09090909090909091   RMSE= 0.30151134457776363\n",
      "k = 20   MAE= 0.09090909090909091   RMSE= 0.30151134457776363\n",
      "k = 21   MAE= 0.09740259740259741   RMSE= 0.31209389196617965\n",
      "k = 22   MAE= 0.07142857142857142   RMSE= 0.2672612419124244\n",
      "k = 23   MAE= 0.09090909090909091   RMSE= 0.30151134457776363\n",
      "k = 24   MAE= 0.06493506493506493   RMSE= 0.25482359571881275\n",
      "k = 25   MAE= 0.07792207792207792   RMSE= 0.27914526311954124\n",
      "k = 26   MAE= 0.05194805194805195   RMSE= 0.2279211529192759\n",
      "k = 27   MAE= 0.05844155844155844   RMSE= 0.24174688920761409\n",
      "k = 28   MAE= 0.06493506493506493   RMSE= 0.25482359571881275\n",
      "k = 29   MAE= 0.07142857142857142   RMSE= 0.2672612419124244\n",
      "k = 30   MAE= 0.06493506493506493   RMSE= 0.25482359571881275\n",
      "k = 31   MAE= 0.06493506493506493   RMSE= 0.25482359571881275\n",
      "k = 32   MAE= 0.05844155844155844   RMSE= 0.24174688920761409\n",
      "k = 33   MAE= 0.06493506493506493   RMSE= 0.25482359571881275\n",
      "k = 34   MAE= 0.05194805194805195   RMSE= 0.2279211529192759\n",
      "k = 35   MAE= 0.07142857142857142   RMSE= 0.2672612419124244\n",
      "k = 36   MAE= 0.05844155844155844   RMSE= 0.24174688920761409\n",
      "k = 37   MAE= 0.05844155844155844   RMSE= 0.24174688920761409\n",
      "k = 38   MAE= 0.05844155844155844   RMSE= 0.24174688920761409\n",
      "k = 39   MAE= 0.05194805194805195   RMSE= 0.2279211529192759\n",
      "k = 40   MAE= 0.05844155844155844   RMSE= 0.24174688920761409\n",
      "k = 41   MAE= 0.05844155844155844   RMSE= 0.24174688920761409\n",
      "k = 42   MAE= 0.05844155844155844   RMSE= 0.24174688920761409\n",
      "k = 43   MAE= 0.045454545454545456   RMSE= 0.21320071635561044\n",
      "k = 44   MAE= 0.032467532467532464   RMSE= 0.1801874925391118\n",
      "k = 45   MAE= 0.03896103896103896   RMSE= 0.19738550848793068\n",
      "k = 46   MAE= 0.01948051948051948   RMSE= 0.13957263155977062\n",
      "k = 47   MAE= 0.025974025974025976   RMSE= 0.16116459280507606\n",
      "k = 48   MAE= 0.01948051948051948   RMSE= 0.13957263155977062\n",
      "k = 49   MAE= 0.0   RMSE= 0.0\n",
      "Acurácia máxima: 0.7857142857142857 at K = 30\n"
     ]
    },
    {
     "data": {
      "image/png": "[encoded data removed]",
      "text/plain": [
       "<Figure size 720x432 with 1 Axes>"
      ]
     },
     "metadata": {
      "needs_background": "light"
     },
     "output_type": "display_data"
    }
   ],
   "source": [
    "acc = []\n",
    "\n",
    "for i in range(1, 50):\n",
    "    neigh = KNeighborsClassifier(n_neighbors = i).fit(X_train, y_train)\n",
    "    yhat = neigh.predict(X_test)\n",
    "    acc.append(metrics.accuracy_score(y_test, yhat))\n",
    "\n",
    "    MAE = mae(yhat, pred_i)\n",
    "    RMSE = mse(yhat, pred_i, squared=False)\n",
    "    print('k =', i,'  MAE=', MAE, '  RMSE=', RMSE)  \n",
    "\n",
    "plt.figure(figsize = (10, 6))\n",
    "plt.plot(range(1, 50), error_rate, color = 'blue', linestyle = 'dashed', marker = 'o', markerfacecolor = 'red', markersize = 10)\n",
    "plt.title('accuracy vs. K Value')\n",
    "plt.xlabel('K')\n",
    "plt.ylabel('Accuracy')\n",
    "print('Acurácia máxima:', max(acc), 'at K =', acc.index(max(acc)))\n"
   ]
  },
  {
   "cell_type": "markdown",
   "metadata": {},
   "source": [
    "Obtivemos a precisão de 0,78 em k = 30. Como já vimos o erro mínimo em k = 30, a melhor eficiência é realmente em k = 30.\n",
    "OBS: o valor de K encontrado geralmente é a raiz quadrada de N, onde N é o número total de amostras."
   ]
  },
  {
   "cell_type": "markdown",
   "metadata": {},
   "source": [
    "Agora que sabemos que o melhor K para este problema é K = 30, podemos ver os valores de MSE e RSME para este K."
   ]
  },
  {
   "cell_type": "code",
   "execution_count": 54,
   "metadata": {},
   "outputs": [
    {
     "name": "stdout",
     "output_type": "stream",
     "text": [
      "k = 30   MAE= 0.06493506493506493   RMSE= 0.25482359571881275\n"
     ]
    }
   ],
   "source": [
    "neigh = KNeighborsClassifier(n_neighbors = 30).fit(X_train, y_train)\n",
    "yhat = neigh.predict(X_test)\n",
    "acc.append(metrics.accuracy_score(y_test, yhat))\n",
    "\n",
    "MAE = mae(yhat, pred_i)\n",
    "RMSE = mse(yhat, pred_i, squared=False)\n",
    "print('k =', 30,'  MAE=', MAE, '  RMSE=', RMSE)"
   ]
  },
  {
   "cell_type": "markdown",
   "metadata": {},
   "source": [
    "### Decision Tree"
   ]
  },
  {
   "cell_type": "markdown",
   "metadata": {},
   "source": [
    "Árvores de Decisão para problemas de classificação são utilizadas para separar um grupo de amostras em subgrupos que tenham características iguais, de mosta a prever para uma amostra fora do conjunto, a qual subcnojunto ela pertencia. "
   ]
  },
  {
   "cell_type": "code",
   "execution_count": 55,
   "metadata": {},
   "outputs": [],
   "source": [
    "# separando os dados\n",
    "# a matriz X deve conter as features das amostras\n",
    "# a matriz Y deve conter as classes de cada amostra\n",
    "# a matriz Y é do tipo n x 1 (uma matriz que tem uma única coluna contendo um valor inteiro indicando a classe a que cada amostra pertence)\n",
    "X = df.drop('Outcome', axis=1)\n",
    "y = df['Outcome']"
   ]
  },
  {
   "cell_type": "code",
   "execution_count": 63,
   "metadata": {},
   "outputs": [
    {
     "name": "stdout",
     "output_type": "stream",
     "text": [
      "(614, 8)\n",
      "(614,)\n",
      "(154, 8)\n",
      "(154,)\n"
     ]
    }
   ],
   "source": [
    "# 80% para treino\n",
    "# 20% para teste \n",
    "X_train, X_test, y_train, y_test = train_test_split(X, y, test_size=0.20)\n",
    "\n",
    "print(X_train.shape)\n",
    "print(y_train.shape)\n",
    "print(X_test.shape)\n",
    "print(y_test.shape)"
   ]
  },
  {
   "cell_type": "code",
   "execution_count": 61,
   "metadata": {},
   "outputs": [],
   "source": [
    "# treinando\n",
    "classifier = DecisionTreeClassifier()\n",
    "classifier.fit(X_train, y_train)\n",
    "\n",
    "# agora que o treino foi feito, vamos fazer as predições dos dados de teste\n",
    "y_pred = classifier.predict(X_test)"
   ]
  },
  {
   "cell_type": "markdown",
   "metadata": {},
   "source": [
    "### Naive Bayes"
   ]
  },
  {
   "cell_type": "markdown",
   "metadata": {},
   "source": [
    "### Conclusão sobre o desempenho dos algoritmos"
   ]
  },
  {
   "cell_type": "markdown",
   "metadata": {},
   "source": [
    "Referências:\n",
    "- https://towardsdatascience.com/how-to-find-the-optimal-value-of-k-in-knn-35d936e554eb\n",
    "- Python para Data Science e Machine Learning Descomplicado"
   ]
  }
 ],
 "metadata": {
  "kernelspec": {
   "display_name": "Python 3.10.5 64-bit (windows store)",
   "language": "python",
   "name": "python3"
  },
  "language_info": {
   "codemirror_mode": {
    "name": "ipython",
    "version": 3
   },
   "file_extension": ".py",
   "mimetype": "text/x-python",
   "name": "python",
   "nbconvert_exporter": "python",
   "pygments_lexer": "ipython3",
   "version": "3.10.6"
  },
  "orig_nbformat": 4,
  "vscode": {
   "interpreter": {
    "hash": "ab4020b22aa0af336a18b3a77a18a4a6f563ef6e3d818e14ea4f4432fff65fa3"
   }
  }
 },
 "nbformat": 4,
 "nbformat_minor": 2
}
